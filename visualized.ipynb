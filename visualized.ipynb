{
 "cells": [
  {
   "cell_type": "code",
   "execution_count": null,
   "id": "7edf0285",
   "metadata": {},
   "outputs": [],
   "source": [
    "# uncomment next line\n",
    "#!python3 -m pip install -r requirements.txt``"
   ]
  },
  {
   "cell_type": "code",
   "execution_count": null,
   "id": "dc5a8d02",
   "metadata": {},
   "outputs": [],
   "source": [
    "import warnings\n",
    "warnings.filterwarnings('ignore')"
   ]
  },
  {
   "cell_type": "code",
   "execution_count": null,
   "id": "a2d5df07",
   "metadata": {},
   "outputs": [],
   "source": [
    "from main import run_all_tests"
   ]
  },
  {
   "cell_type": "code",
   "execution_count": null,
   "id": "02688578",
   "metadata": {},
   "outputs": [],
   "source": [
    "tests_results = run_all_tests()"
   ]
  },
  {
   "cell_type": "code",
   "execution_count": null,
   "id": "dcf9da08",
   "metadata": {},
   "outputs": [],
   "source": [
    "tests_results"
   ]
  },
  {
   "cell_type": "code",
   "execution_count": null,
   "id": "cc47efed",
   "metadata": {},
   "outputs": [],
   "source": [
    "import numpy as np\n",
    "import matplotlib.pyplot as plt\n",
    "import seaborn as sns\n",
    "\n",
    "sns.set_theme(style='whitegrid')\n",
    "sns.set_palette('rainbow')\n",
    "\n",
    "def plot_perm_one(boot_delta, ci, delta_point, perm_null, title='permutation', kde=True):\n",
    "    boot_delta = np.asarray(boot_delta)\n",
    "    perm_null  = np.asarray(perm_null)\n",
    "    lo, hi = ci\n",
    "\n",
    "    bins = np.histogram_bin_edges(np.r_[boot_delta, perm_null], bins='auto')\n",
    "\n",
    "    p_two = ((np.abs(perm_null) >= abs(delta_point)).sum() + 1) / (len(perm_null) + 1)\n",
    "\n",
    "    fig, ax = plt.subplots()\n",
    "    sns.histplot(boot_delta, bins=bins, stat='density', kde=kde, alpha=0.45,\n",
    "                 ax=ax, label='bootstrap')\n",
    "\n",
    "    sns.histplot(perm_null, bins=bins, stat='density', element='step', fill=False, lw=2,\n",
    "                 ax=ax, label='perm null', color='red')\n",
    "\n",
    "    ax.axvline(lo, ls='--', lw=2, label=f'CI low {lo:.3g}')\n",
    "    ax.axvline(hi, ls='--', lw=2, label=f'CI high {hi:.3g}')\n",
    "    ax.axvline(0.0, ls=':',  lw=2, label='null 0')\n",
    "    ax.axvline(delta_point, ls='-', lw=2, label=f'point {delta_point:.3g}')\n",
    "\n",
    "    ax.set(xlabel='mean(B) - mean(A)', ylabel='density',\n",
    "           title=f'{title}  |  p≈{p_two:.4g}')\n",
    "    ax.legend(loc='best')\n",
    "    fig.tight_layout()\n",
    "    return fig, ax\n",
    "\n",
    "def plot_mw_one(boot_a12, ci, a12_hat, title='bootstrap A12'):\n",
    "    boot = np.asarray(boot_a12)\n",
    "    lo, hi = ci\n",
    "\n",
    "    fig, ax = plt.subplots()\n",
    "    sns.histplot(boot, stat='density', bins='auto', kde=True, alpha=0.6, ax=ax)\n",
    "    ax.axvline(lo, ls='--', lw=2, label=f'CI low {lo:.3g}')\n",
    "    ax.axvline(hi, ls='--', lw=2, label=f'CI high {hi:.3g}')\n",
    "    ax.axvline(0.5, ls=':',  lw=2, label='null 0.5')\n",
    "    ax.axvline(a12_hat, ls='-', lw=2, label=f'point {a12_hat:.3g}')\n",
    "    ax.set(xlabel='A12', ylabel='density', title=title)\n",
    "    ax.legend(loc='best')\n",
    "\n",
    "    ax2 = ax.twinx()\n",
    "    sns.ecdfplot(boot, ax=ax2)\n",
    "    ax2.set_ylabel('ecdf')\n",
    "\n",
    "    fig.tight_layout()\n",
    "    return fig, ax\n",
    "\n",
    "def plot_boostrap(boot_delta, ci, delta_hat, title='bootstrap'):\n",
    "    boot = np.asanyarray(boot_delta)\n",
    "    lo, hi = ci\n",
    "    \n",
    "    fig, ax = plt.subplots()\n",
    "    sns.histplot(boot, stat='density', bins='auto', kde=True, alpha=0.6, ax=ax)\n",
    "    ax.axvline(lo, ls='--', lw=2, label=f'CI low {lo:.3g}')\n",
    "    ax.axvline(hi, ls='--', lw=2, label=f'CI high {hi:.3g}')\n",
    "    ax.axvline(delta_hat, ls=':',  lw=2, label=f'null {delta_hat}')\n",
    "    ax.axvline(delta_hat, ls='-', lw=2, label=f'point {delta_hat:.3g}')\n",
    "    ax.set(xlabel='delta', ylabel='density', title=title)\n",
    "    ax.legend(loc='best')\n",
    "\n",
    "    fig.tight_layout()\n",
    "    return fig, ax"
   ]
  },
  {
   "cell_type": "code",
   "execution_count": null,
   "id": "40ed77a9",
   "metadata": {},
   "outputs": [],
   "source": [
    "for experiment, metric_test_results in tests_results.items():\n",
    "    for metric, test_results in metric_test_results.items():\n",
    "        for test_result in test_results:\n",
    "            if test_result.test_name == 'mannwhithney':\n",
    "                plot_mw_one(\n",
    "                    test_result.vis_info['resample_distribution'], test_result.ci, test_result.vis_info['a_12'],\n",
    "                    title=f'bootstrap of a12; {test_result.experiment}-{test_result.metric}-{test_result.test_name}'\n",
    "                )\n",
    "            elif test_result.test_name == 'bootstrap_test':\n",
    "                plot_boostrap(\n",
    "                    test_result.vis_info['resample_distribution'], test_result.ci, test_result.vis_info['delta_hat'],\n",
    "                    title=f'bootstrap test; {test_result.experiment}-{test_result.metric}-{test_result.test_name}'\n",
    "                )\n",
    "            elif test_result.test_name == 'ttest':\n",
    "                pass\n",
    "            else:\n",
    "                print(f'{experiment}-{metric}-{test_result.test_name}')\n",
    "                print(test_result.vis_info['resample_distribution'])\n",
    "                print(test_result.vis_info['delta_hat'])\n",
    "                print(test_result.vis_info.get('perm_null'))\n",
    "                plot_perm_one(\n",
    "                    test_result.vis_info['resample_distribution'], test_result.ci,\n",
    "                    test_result.vis_info['delta_hat'], test_result.vis_info['perm_null'],\n",
    "                    title=f'permutation bootstrap; {test_result.experiment}-{test_result.metric}-{test_result.test_name}',\n",
    "                    kde=True,\n",
    "                )\n"
   ]
  },
  {
   "cell_type": "code",
   "execution_count": null,
   "id": "faffbc07",
   "metadata": {},
   "outputs": [],
   "source": []
  }
 ],
 "metadata": {
  "kernelspec": {
   "display_name": "Python 3 (no Sage)",
   "language": "python",
   "name": "python3"
  },
  "language_info": {
   "codemirror_mode": {
    "name": "ipython",
    "version": 3
   },
   "file_extension": ".py",
   "mimetype": "text/x-python",
   "name": "python",
   "nbconvert_exporter": "python",
   "pygments_lexer": "ipython3",
   "version": "3.12.0"
  }
 },
 "nbformat": 4,
 "nbformat_minor": 5
}
